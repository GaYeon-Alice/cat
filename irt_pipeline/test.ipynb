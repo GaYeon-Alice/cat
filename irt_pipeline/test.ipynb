{
 "cells": [
  {
   "cell_type": "code",
   "execution_count": 55,
   "metadata": {},
   "outputs": [],
   "source": [
    "import boto3\n",
    "from io import StringIO\n",
    "import pandas as pd\n",
    "import numpy as np\n",
    "import json"
   ]
  },
  {
   "cell_type": "code",
   "execution_count": null,
   "metadata": {},
   "outputs": [],
   "source": [
    "s3 = boto3.client('s3')\n",
    "bucket_name = 'mathcat-bucket'\n",
    "file_key = 'DATA_preprocessing/Unsaved/2024/03/06/baba44b9-9567-4da7-872e-35cde599f185.csv'\n",
    "obj = s3.get_object(Bucket=bucket_name, Key=file_key)\n",
    "data = obj['Body'].read().decode('utf-8')\n",
    "data_io = StringIO(data)"
   ]
  },
  {
   "cell_type": "code",
   "execution_count": 61,
   "metadata": {},
   "outputs": [
    {
     "name": "stderr",
     "output_type": "stream",
     "text": [
      "/var/folders/81/248083pd4gs_dcbfd1cfps280000gn/T/ipykernel_55575/2204800672.py:4: SettingWithCopyWarning: \n",
      "A value is trying to be set on a copy of a slice from a DataFrame.\n",
      "Try using .loc[row_indexer,col_indexer] = value instead\n",
      "\n",
      "See the caveats in the documentation: https://pandas.pydata.org/pandas-docs/stable/user_guide/indexing.html#returning-a-view-versus-a-copy\n",
      "  df5['Correct'] = df5['Correct'].replace({'O': 1, 'X': 0})\n"
     ]
    }
   ],
   "source": [
    "final_5g = pd.read_csv(data_io)\n",
    "df5 = final_5g[['userid', 'quizcode', 'correct']]\n",
    "df5['correct'] = df5['correct'].replace({'O': 1, 'X': 0})\n",
    "# df5['Correct'] = df5['Correct'].replace({'O': 1, 'X': 0})\n",
    "df5.columns = ['UserID', 'QuizCode', 'Correct']"
   ]
  },
  {
   "cell_type": "code",
   "execution_count": 62,
   "metadata": {},
   "outputs": [],
   "source": [
    "# 500명 이상이 푼 문제만 추출\n",
    "quiz_filter = df5.groupby(['QuizCode'])['UserID'].nunique().reset_index()\n",
    "quiz_filter = quiz_filter[quiz_filter['UserID'] >= 500]['QuizCode']\n",
    "\n",
    "# 20문제 이상 푼 사용자만 추출\n",
    "user_filter = df5.groupby(['UserID'])['QuizCode'].nunique().reset_index()\n",
    "user_filter = user_filter[user_filter['QuizCode'] >= 20]['UserID']\n",
    "\n",
    "# 최종 테이블\n",
    "df5_filter = df5[df5['QuizCode'].isin(quiz_filter) & df5['UserID'].isin(user_filter)]"
   ]
  },
  {
   "cell_type": "code",
   "execution_count": 63,
   "metadata": {},
   "outputs": [],
   "source": [
    "user_quiz_dict = {}\n",
    "\n",
    "for index, row in df5.iterrows():\n",
    "    user_id = row['UserID']\n",
    "    quiz_code = f'quiz{row[\"QuizCode\"]}'\n",
    "    correct = row['Correct']\n",
    "\n",
    "    if user_id not in user_quiz_dict:\n",
    "        user_quiz_dict[user_id] = {}\n",
    "    user_quiz_dict[user_id][quiz_code] = correct"
   ]
  },
  {
   "cell_type": "code",
   "execution_count": 64,
   "metadata": {},
   "outputs": [],
   "source": [
    "with open('test1.jsonlines', 'w') as outfile:\n",
    "    for user, quiz in user_quiz_dict.items():\n",
    "        json.dump({\"subject_id\": user, \"responses\": quiz}, outfile)\n",
    "        outfile.write('\\n')"
   ]
  },
  {
   "cell_type": "code",
   "execution_count": null,
   "metadata": {},
   "outputs": [],
   "source": [
    "!python ./irt_pipeline/py-irt/cli.py train 2pl test1.jsonlines test-2pl/ --lr 0.1 --epochs 2000"
   ]
  },
  {
   "cell_type": "code",
   "execution_count": 65,
   "metadata": {},
   "outputs": [
    {
     "name": "stdout",
     "output_type": "stream",
     "text": [
      "['quiz30064595', 'quiz30064596', 'quiz30064597', 'quiz30064598', 'quiz30064599', 'quiz30064605', 'quiz30064606', 'quiz30064607', 'quiz30064608', 'quiz30064609', 'quiz30064166', 'quiz30064167', 'quiz30064168', 'quiz30064170', 'quiz30064171', 'quiz30064172', 'quiz30064173', 'quiz30064174', 'quiz30064175', 'quiz30064177', 'quiz30064178', 'quiz30064180', 'quiz30064181', 'quiz30064182', 'quiz30064183', 'quiz30064184', 'quiz30062297', 'quiz30062294', 'quiz30062293', 'quiz30062303', 'quiz30062302', 'quiz30062313', 'quiz30062315', 'quiz30062317', 'quiz30062327', 'quiz30062291', 'quiz30062295', 'quiz30062298', 'quiz30062300', 'quiz30062301', 'quiz30062304', 'quiz30062305', 'quiz30062306', 'quiz30062307', 'quiz30062308', 'quiz30062309', 'quiz30062310', 'quiz30062311', 'quiz30062312', 'quiz30062318', 'quiz30062319', 'quiz30062320', 'quiz30062321', 'quiz30062323', 'quiz30062324', 'quiz30062325', 'quiz30062326', 'quiz30062328', 'quiz30062329', 'quiz30062330', 'quiz30067093', 'quiz30067094', 'quiz30067096', 'quiz30067097', 'quiz30067098', 'quiz30067099', 'quiz30067100', 'quiz30067101', 'quiz30067102', 'quiz30067103', 'quiz30067104', 'quiz30067105', 'quiz30067106', 'quiz30067107', 'quiz30067108', 'quiz30067109', 'quiz30067110', 'quiz30067111', 'quiz30067112', 'quiz30065544', 'quiz30065545', 'quiz30065546', 'quiz30065547', 'quiz30065548', 'quiz30065549', 'quiz30065550', 'quiz30065551', 'quiz30065552', 'quiz30065553', 'quiz30065555', 'quiz30065557', 'quiz30065558', 'quiz30065559', 'quiz30065560', 'quiz30065561', 'quiz30065562', 'quiz30065563', 'quiz30066748', 'quiz30066749', 'quiz30066755', 'quiz30066754', 'quiz30066760', 'quiz30066747', 'quiz30066750', 'quiz30066751', 'quiz30066752', 'quiz30066753', 'quiz30066756', 'quiz30066757', 'quiz30066758', 'quiz30066759', 'quiz30066761', 'quiz30066762', 'quiz30066763', 'quiz30066764', 'quiz30066765', 'quiz30066766', 'quiz30066156', 'quiz30066157', 'quiz30066158', 'quiz30066159', 'quiz30066160', 'quiz30066166', 'quiz30066167', 'quiz30066168', 'quiz30066169', 'quiz30066170', 'quiz30066180', 'quiz30066176', 'quiz30066177', 'quiz30066198', 'quiz30066199', 'quiz30066200', 'quiz30056994', 'quiz30056995', 'quiz30056996', 'quiz30056997', 'quiz30056998', 'quiz30057004', 'quiz30057005', 'quiz30057006', 'quiz30057007', 'quiz30057008', 'quiz30057034', 'quiz30057035', 'quiz30057036', 'quiz30057037', 'quiz30057038', 'quiz30057094', 'quiz30057095', 'quiz30057096', 'quiz30057097', 'quiz30057098', 'quiz30057074', 'quiz30057075', 'quiz30057076', 'quiz30057077', 'quiz30057078', 'quiz30057104', 'quiz30057105', 'quiz30057106', 'quiz30057107', 'quiz30057108', 'quiz30057084', 'quiz30057085', 'quiz30057086', 'quiz30057087', 'quiz30057088', 'quiz30061975', 'quiz30072082', 'quiz30061978', 'quiz30063257', 'quiz30063192', 'quiz30063194', 'quiz30057044', 'quiz30057045', 'quiz30057046', 'quiz30057047', 'quiz30057048', 'quiz30057054', 'quiz30057055', 'quiz30057056', 'quiz30057057', 'quiz30057065', 'quiz30057066', 'quiz30057068', 'quiz30057058', 'quiz30057064', 'quiz30057067', 'quiz30066212', 'quiz30066206', 'quiz30066207', 'quiz30066208', 'quiz30066209', 'quiz30066210', 'quiz30066211', 'quiz30066213', 'quiz30066214', 'quiz30066215', 'quiz30066216', 'quiz30066217', 'quiz30066218', 'quiz30066219', 'quiz30066220', 'quiz30066221', 'quiz30066222', 'quiz30063255', 'quiz30063258', 'quiz30066240', 'quiz30066241', 'quiz30066242', 'quiz30066243', 'quiz30066244', 'quiz30063202', 'quiz30066186', 'quiz30066187', 'quiz30066250', 'quiz30066251', 'quiz30066252', 'quiz30066253', 'quiz30066254', 'quiz30057082', 'quiz30049876', 'quiz30049352', 'quiz30049350', 'quiz30049353', 'quiz30049361', 'quiz30049360', 'quiz30049889', 'quiz30049890', 'quiz30049892', 'quiz30049372', 'quiz30075738', 'quiz30075628', 'quiz30061959', 'quiz30061964', 'quiz30072084', 'quiz30058926', 'quiz30058927', 'quiz30058928', 'quiz30058929', 'quiz30058930', 'quiz30058936', 'quiz30058937', 'quiz30058938', 'quiz30058946', 'quiz30058947', 'quiz30058948', 'quiz30058949', 'quiz30058950', 'quiz30058976', 'quiz30058977', 'quiz30058978', 'quiz30058979', 'quiz30060033', 'quiz30060034', 'quiz30060071', 'quiz30058986', 'quiz30058987', 'quiz30058988', 'quiz30058989', 'quiz30058990', 'quiz30058996', 'quiz30058997', 'quiz30058998', 'quiz30058999', 'quiz30059000', 'quiz30059003', 'quiz30059004', 'quiz30059006', 'quiz30059008', 'quiz30059012', 'quiz30057014', 'quiz30057015', 'quiz30057016', 'quiz30057017', 'quiz30057018', 'quiz30060030', 'quiz30060031', 'quiz30060032', 'quiz30060070', 'quiz30057024', 'quiz30057025', 'quiz30057026', 'quiz30057027', 'quiz30057028', 'quiz30059040', 'quiz30059041', 'quiz30059042', 'quiz30059999', 'quiz30060002', 'quiz30059987', 'quiz30060012', 'quiz30059043', 'quiz30059998', 'quiz30060072', 'quiz30060073', 'quiz30059044', 'quiz30059034', 'quiz30059052', 'quiz30059053', 'quiz30059054', 'quiz30059978', 'quiz30059988', 'quiz30059989', 'quiz30060006', 'quiz30059986', 'quiz30060003', 'quiz30059050', 'quiz30059051', 'quiz30059997', 'quiz30060000', 'quiz30060040', 'quiz30060041', 'quiz30060042', 'quiz30059976', 'quiz30059977', 'quiz30059979', 'quiz30059030', 'quiz30059031', 'quiz30059032', 'quiz30059996', 'quiz30060005', 'quiz30060008', 'quiz30059033', 'quiz30060004', 'quiz30060007', 'quiz30059980', 'quiz30060001', 'quiz30063250', 'quiz30063251', 'quiz30063252', 'quiz30063253', 'quiz30063254', 'quiz30063256', 'quiz30063259', 'quiz30063260', 'quiz30063261', 'quiz30063262', 'quiz30063263', 'quiz30063264', 'quiz30063265', 'quiz30063266', 'quiz30063212', 'quiz30063214', 'quiz30063193', 'quiz30061259', 'quiz30061288', 'quiz30061291', 'quiz30061287', 'quiz30046365', 'quiz30046371', 'quiz30046329', 'quiz30046325', 'quiz30046327', 'quiz30046318', 'quiz30046355', 'quiz30046356', 'quiz30046357', 'quiz30046358', 'quiz30046359', 'quiz30046328', 'quiz30046372', 'quiz30046377', 'quiz30046317', 'quiz30046326', 'quiz30046366', 'quiz30046373', 'quiz30046338', 'quiz30046339', 'quiz30046335', 'quiz30046336', 'quiz30046337', 'quiz30046368', 'quiz30046348', 'quiz30046349', 'quiz30046380', 'quiz30046345', 'quiz30046376', 'quiz30046369', 'quiz30046370', 'quiz30046374', 'quiz30046375', 'quiz30046378', 'quiz30046379', 'quiz30046381', 'quiz30046347', 'quiz30046346', 'quiz30047127', 'quiz30047128', 'quiz30047130', 'quiz30047129', 'quiz30047131', 'quiz30047137', 'quiz30047138', 'quiz30047140', 'quiz30047141', 'quiz30046399', 'quiz30046400', 'quiz30046403', 'quiz30046401', 'quiz30046402', 'quiz30048742', 'quiz30048743', 'quiz30047139', 'quiz30048747', 'quiz30048748', 'quiz30048744', 'quiz30048745', 'quiz30048749', 'quiz30048758', 'quiz30046412', 'quiz30046413', 'quiz30047147', 'quiz30047148', 'quiz30047149', 'quiz30047150', 'quiz30046409', 'quiz30046410', 'quiz30046411', 'quiz30048796', 'quiz30048810', 'quiz30048811', 'quiz30048818', 'quiz30048819', 'quiz30048822', 'quiz30048779', 'quiz30048780', 'quiz30048814', 'quiz30048778', 'quiz30047157', 'quiz30047159', 'quiz30047160', 'quiz30047161', 'quiz30048786', 'quiz30048787', 'quiz30048788', 'quiz30048789', 'quiz30048790', 'quiz30047151', 'quiz30048750', 'quiz30048746', 'quiz30048797', 'quiz30048798', 'quiz30048799', 'quiz30048800', 'quiz30048815', 'quiz30048816', 'quiz30048817', 'quiz30048821', 'quiz30048751', 'quiz30048753', 'quiz30048754', 'quiz30048755', 'quiz30048756', 'quiz30048757', 'quiz30048807', 'quiz30048806', 'quiz30048808', 'quiz30048813', 'quiz30048809', 'quiz30048812', 'quiz30048820', 'quiz30048752', 'quiz30047158', 'quiz30048776', 'quiz30048777', 'quiz30063223', 'quiz30063224', 'quiz30046367', 'quiz30063240', 'quiz30063241', 'quiz30063242', 'quiz30063243', 'quiz30063244', 'quiz30063233', 'quiz30063230', 'quiz30063231', 'quiz30063232', 'quiz30063234', 'quiz30063294', 'quiz30063295', 'quiz30063296', 'quiz30063297', 'quiz30063298', 'quiz30063213', 'quiz30060009', 'quiz30060010', 'quiz30060011', 'quiz30059990', 'quiz30061290', 'quiz30061268', 'quiz30061269', 'quiz30061206', 'quiz30061209', 'quiz30061210', 'quiz30061211', 'quiz30061212', 'quiz30061213', 'quiz30061214', 'quiz30061258', 'quiz30063190', 'quiz30063191', 'quiz30063200', 'quiz30063201', 'quiz30063203', 'quiz30063204', 'quiz30063210', 'quiz30063211', 'quiz30061255', 'quiz30061256', 'quiz30061257', 'quiz30061279', 'quiz30061265', 'quiz30061266', 'quiz30061267', 'quiz30061280', 'quiz30061289', 'quiz30063220', 'quiz30063221', 'quiz30063222', 'quiz30051257', 'quiz30051258', 'quiz30052887', 'quiz30052888', 'quiz30052889', 'quiz30052890', 'quiz30052891', 'quiz30052898', 'quiz30052901', 'quiz30052909', 'quiz30052911', 'quiz30055474', 'quiz30055475', 'quiz30055476', 'quiz30055477', 'quiz30055478', 'quiz30052918', 'quiz30052920', 'quiz30052922', 'quiz30052926', 'quiz30052928', 'quiz30052930', 'quiz30052931', 'quiz30052932', 'quiz30052933', 'quiz30052907', 'quiz30052908', 'quiz30052910', 'quiz30055575', 'quiz30055585', 'quiz30052897', 'quiz30052899', 'quiz30052900', 'quiz30053930', 'quiz30052564', 'quiz30052570', 'quiz30053943', 'quiz30075739', 'quiz30052567', 'quiz30053940', 'quiz30053938', 'quiz30052566', 'quiz30054794', 'quiz30054796', 'quiz30054797', 'quiz30055418', 'quiz30054800', 'quiz30054804', 'quiz30054798', 'quiz30054799', 'quiz30055517', 'quiz30055518', 'quiz30055494', 'quiz30055496', 'quiz30055576', 'quiz30055495', 'quiz30055497', 'quiz30055498', 'quiz30055487', 'quiz30055488', 'quiz30055578', 'quiz30055581', 'quiz30055504', 'quiz30055505', 'quiz30055506', 'quiz30055484', 'quiz30055485', 'quiz30055486', 'quiz30055577', 'quiz30055580', 'quiz30055582', 'quiz30055514', 'quiz30055515', 'quiz30055516', 'quiz30055534', 'quiz30055535', 'quiz30055536', 'quiz30055537', 'quiz30055538', 'quiz30055584', 'quiz30055524', 'quiz30055525', 'quiz30055526', 'quiz30055527', 'quiz30055528', 'quiz30055583', 'quiz30055586', 'quiz30055587', 'quiz30055588', 'quiz30055589', 'quiz30055590', 'quiz30055544', 'quiz30055545', 'quiz30055546', 'quiz30055547', 'quiz30055548', 'quiz30055554', 'quiz30055555', 'quiz30055556', 'quiz30055557', 'quiz30055558', 'quiz30055564', 'quiz30055565', 'quiz30055566', 'quiz30055567', 'quiz30055568', 'quiz30058956', 'quiz30058957', 'quiz30058958', 'quiz30058959', 'quiz30058960', 'quiz30058966', 'quiz30058967', 'quiz30058968', 'quiz30058969', 'quiz30058970', 'quiz30058980', 'quiz30059001', 'quiz30059005', 'quiz30059009', 'quiz30059010', 'quiz30059011', 'quiz30058939', 'quiz30058940', 'quiz30059002', 'quiz30059007', 'quiz30060043', 'quiz30060044', 'quiz30060075', 'quiz30060076', 'quiz30060077', 'quiz30060074', 'quiz30061215', 'quiz30061216', 'quiz30061217', 'quiz30061218', 'quiz30061219', 'quiz30061275', 'quiz30061276', 'quiz30061281', 'quiz30061282', 'quiz30061285', 'quiz30061286', 'quiz30046315', 'quiz30046319', 'quiz30060052', 'quiz30060053', 'quiz30060054', 'quiz30060080', 'quiz30060081', 'quiz30061205', 'quiz30061208', 'quiz30060082', 'quiz30060083', 'quiz30060060', 'quiz30060061', 'quiz30060062', 'quiz30061248', 'quiz30061249', 'quiz30061207', 'quiz30051245', 'quiz30051246', 'quiz30051247', 'quiz30051249', 'quiz30048840', 'quiz30048841', 'quiz30048842', 'quiz30048843', 'quiz30048844', 'quiz30051255', 'quiz30051256', 'quiz30051259', 'quiz30060079', 'quiz30060050', 'quiz30061225', 'quiz30061226', 'quiz30061227', 'quiz30061277', 'quiz30061228', 'quiz30061229', 'quiz30060051', 'quiz30060078', 'quiz30061283', 'quiz30060084', 'quiz30060085', 'quiz30060086', 'quiz30060063', 'quiz30060064', 'quiz30061237', 'quiz30061238', 'quiz30061239', 'quiz30061284', 'quiz30061245', 'quiz30061246', 'quiz30061247', 'quiz30061235', 'quiz30061236', 'quiz30061278', 'quiz30050558', 'quiz30050559', 'quiz30050560', 'quiz30050561', 'quiz30050566', 'quiz30050567', 'quiz30050568', 'quiz30050569', 'quiz30050570', 'quiz30050564', 'quiz30050565', 'quiz30050562', 'quiz30050563', 'quiz30044373', 'quiz30044374', 'quiz30044375', 'quiz30044376', 'quiz30044377', 'quiz30043410', 'quiz30043411', 'quiz30043412', 'quiz30043413', 'quiz30043430', 'quiz30043431', 'quiz30043433', 'quiz30043434', 'quiz30044393', 'quiz30044394', 'quiz30044395', 'quiz30044397', 'quiz30043432', 'quiz30044396', 'quiz30043414', 'quiz30044433', 'quiz30044434', 'quiz30044435', 'quiz30044436', 'quiz30044437', 'quiz30044423', 'quiz30044424', 'quiz30044425', 'quiz30044426', 'quiz30044427', 'quiz30051289', 'quiz30051308', 'quiz30051311', 'quiz30061329', 'quiz30061330', 'quiz30061331', 'quiz30061332', 'quiz30061333', 'quiz30049874', 'quiz30049875', 'quiz30049877', 'quiz30049878', 'quiz30049879', 'quiz30049880', 'quiz30049881', 'quiz30049882', 'quiz30049883', 'quiz30050522', 'quiz30050523', 'quiz30049891', 'quiz30049893', 'quiz30049894', 'quiz30049895', 'quiz30049896', 'quiz30049897', 'quiz30049898', 'quiz30044443', 'quiz30044444', 'quiz30044445', 'quiz30044446', 'quiz30044447', 'quiz30044453', 'quiz30044454', 'quiz30044455', 'quiz30044456', 'quiz30044457', 'quiz30044463', 'quiz30044464', 'quiz30044465', 'quiz30044466', 'quiz30044467', 'quiz30044026', 'quiz30044027', 'quiz30044028', 'quiz30044029', 'quiz30044030', 'quiz30044383', 'quiz30044384', 'quiz30044385', 'quiz30044386', 'quiz30044403', 'quiz30044404', 'quiz30044406', 'quiz30044407', 'quiz30044413', 'quiz30044414', 'quiz30044415', 'quiz30044416', 'quiz30044417', 'quiz30044387', 'quiz30044405', 'quiz30043401', 'quiz30043402', 'quiz30043403', 'quiz30043376', 'quiz30043377', 'quiz30043378', 'quiz30043396', 'quiz30043397', 'quiz30043398', 'quiz30073706', 'quiz30073700', 'quiz30073697', 'quiz30073702', 'quiz30071834', 'quiz30043386', 'quiz30043387', 'quiz30043388', 'quiz30073709', 'quiz30052549', 'quiz30052550', 'quiz30052551', 'quiz30052552', 'quiz30052553', 'quiz30052554', 'quiz30052555', 'quiz30052556', 'quiz30052557', 'quiz30052558', 'quiz30052565', 'quiz30052568', 'quiz30052569', 'quiz30052571', 'quiz30052572', 'quiz30052573', 'quiz30055429', 'quiz30055430', 'quiz30055431', 'quiz30055432', 'quiz30055433', 'quiz30055434', 'quiz30055435', 'quiz30055436', 'quiz30055437', 'quiz30055438', 'quiz30066646', 'quiz30066647', 'quiz30066649', 'quiz30066650', 'quiz30066652', 'quiz30066653', 'quiz30066654', 'quiz30066655', 'quiz30055414', 'quiz30055415', 'quiz30055416', 'quiz30055417', 'quiz30055419', 'quiz30055420', 'quiz30055421', 'quiz30055422', 'quiz30055423', 'quiz30061960', 'quiz30061961', 'quiz30061962', 'quiz30061963', 'quiz30061965', 'quiz30061966', 'quiz30061967', 'quiz30061968', 'quiz30066661', 'quiz30066665', 'quiz30066666', 'quiz30066667', 'quiz30066668', 'quiz30066669', 'quiz30066670', 'quiz30065402', 'quiz30065403', 'quiz30065404', 'quiz30065408', 'quiz30065409', 'quiz30065410', 'quiz30065416', 'quiz30065417', 'quiz30065418', 'quiz30065419', 'quiz30065420', 'quiz30065421', 'quiz30065422', 'quiz30065423', 'quiz30065424', 'quiz30065425', 'quiz30061974', 'quiz30061976', 'quiz30061977', 'quiz30061979', 'quiz30061980', 'quiz30061981', 'quiz30061982', 'quiz30061983', 'quiz30066662', 'quiz30066663', 'quiz30066664', 'quiz30066648', 'quiz30066651', 'quiz30065401', 'quiz30065405', 'quiz30065406', 'quiz30065407', 'quiz30049351', 'quiz30049354', 'quiz30049355', 'quiz30049356', 'quiz30049357', 'quiz30049358', 'quiz30049362', 'quiz30049364', 'quiz30049365', 'quiz30049366', 'quiz30049367', 'quiz30049368', 'quiz30049369', 'quiz30051793', 'quiz30051794', 'quiz30051796', 'quiz30075640', 'quiz30051803', 'quiz30051811', 'quiz30063304', 'quiz30063305', 'quiz30063306', 'quiz30063307', 'quiz30063308', 'quiz30059035', 'quiz30059036', 'quiz30059037', 'quiz30059038', 'quiz30059039', 'quiz30075471', 'quiz30044006', 'quiz30044007', 'quiz30044008', 'quiz30044009', 'quiz30044016', 'quiz30044017', 'quiz30044018', 'quiz30044019', 'quiz30044036', 'quiz30044037', 'quiz30044038', 'quiz30044039', 'quiz30044040', 'quiz30075472', 'quiz30075466', 'quiz30075467', 'quiz30075468', 'quiz30075469', 'quiz30075470', 'quiz30051269', 'quiz30051268', 'quiz30051277', 'quiz30051298', 'quiz30051248', 'quiz30051296', 'quiz30051300', 'quiz30051302', 'quiz30051295', 'quiz30046404', 'quiz30046405', 'quiz30046406', 'quiz30046407', 'quiz30046408', 'quiz30046414', 'quiz30046415', 'quiz30046416', 'quiz30046417', 'quiz30046418', 'quiz30052859', 'quiz30052877', 'quiz30050546', 'quiz30050547', 'quiz30050544', 'quiz30050545', 'quiz30052867', 'quiz30051278', 'quiz30051276', 'quiz30051285', 'quiz30051288', 'quiz30051265', 'quiz30056313', 'quiz30061319', 'quiz30061320', 'quiz30061321', 'quiz30061322', 'quiz30061323', 'quiz30049370', 'quiz30049371', 'quiz30049373', 'quiz30049374', 'quiz30049375', 'quiz30049376', 'quiz30049378', 'quiz30049379', 'quiz30049380', 'quiz30049381', 'quiz30049382', 'quiz30049384', 'quiz30049386', 'quiz30049387', 'quiz30049388', 'quiz30049389', 'quiz30056312', 'quiz30056317', 'quiz30056318', 'quiz30056319', 'quiz30056320', 'quiz30056321', 'quiz30056322', 'quiz30056324', 'quiz30056325', 'quiz30056326', 'quiz30056327', 'quiz30056328', 'quiz30056329', 'quiz30056330', 'quiz30056331', 'quiz30051795', 'quiz30051797', 'quiz30051799', 'quiz30051802', 'quiz30051804', 'quiz30051805', 'quiz30051806', 'quiz30051807', 'quiz30051808', 'quiz30051809', 'quiz30051810', 'quiz30051812', 'quiz30054795', 'quiz30054801', 'quiz30054802', 'quiz30054803', 'quiz30054805', 'quiz30054807', 'quiz30054808', 'quiz30054809', 'quiz30054811', 'quiz30054812', 'quiz30054813', 'quiz30051303', 'quiz30051306', 'quiz30051309', 'quiz30051266', 'quiz30051304', 'quiz30051305', 'quiz30051275', 'quiz30051299', 'quiz30051286', 'quiz30051287', 'quiz30051307', 'quiz30052879', 'quiz30052858', 'quiz30052860', 'quiz30052861', 'quiz30052868', 'quiz30052869', 'quiz30052870', 'quiz30052871', 'quiz30051279', 'quiz30051310', 'quiz30051267', 'quiz30052880', 'quiz30052881', 'quiz30051297', 'quiz30051301', 'quiz30043370', 'quiz30043371', 'quiz30043372', 'quiz30043373', 'quiz30043374', 'quiz30046316', 'quiz30052857', 'quiz30052878', 'quiz30055507', 'quiz30055508', 'quiz30043400', 'quiz30043380', 'quiz30043381', 'quiz30043382', 'quiz30043383', 'quiz30043384', 'quiz30043440', 'quiz30043441', 'quiz30043442', 'quiz30043986', 'quiz30043987', 'quiz30043988', 'quiz30043989', 'quiz30043990', 'quiz30052917', 'quiz30052919', 'quiz30052921', 'quiz30052923', 'quiz30052924', 'quiz30052925', 'quiz30052927', 'quiz30052929', 'quiz30043443', 'quiz30043444', 'quiz30043404', 'quiz30044010', 'quiz30059110', 'quiz30059111', 'quiz30059112', 'quiz30059113', 'quiz30059114', 'quiz30059140', 'quiz30059141', 'quiz30059142', 'quiz30059143', 'quiz30059144', 'quiz30060114', 'quiz30060115', 'quiz30060116', 'quiz30060117', 'quiz30060118', 'quiz30060174', 'quiz30060175', 'quiz30060176', 'quiz30060177', 'quiz30060178', 'quiz30060104', 'quiz30060105', 'quiz30060106', 'quiz30060107', 'quiz30060108', 'quiz30075465', 'quiz30055574', 'quiz30055579', 'quiz30043420', 'quiz30043421', 'quiz30043422', 'quiz30043423', 'quiz30043424', 'quiz30075464', 'quiz30059082', 'quiz30044020', 'quiz30053931', 'quiz30053932', 'quiz30053933', 'quiz30053934', 'quiz30053935', 'quiz30053936', 'quiz30053937', 'quiz30053941', 'quiz30053942', 'quiz30053944', 'quiz30053945', 'quiz30053947', 'quiz30053948', 'quiz30053949', 'quiz30043996', 'quiz30043997', 'quiz30043998', 'quiz30043999', 'quiz30055728', 'quiz30055729', 'quiz30055730', 'quiz30055731', 'quiz30055732', 'quiz30050524', 'quiz30050525', 'quiz30050526', 'quiz30050527', 'quiz30050528', 'quiz30050529', 'quiz30043390', 'quiz30043391', 'quiz30043392', 'quiz30043393', 'quiz30047227', 'quiz30047228', 'quiz30047229', 'quiz30047230', 'quiz30047231', 'quiz30050548', 'quiz30050549', 'quiz30050550', 'quiz30050551', 'quiz30050552', 'quiz30050540', 'quiz30050541', 'quiz30050553', 'quiz30050554', 'quiz30050555', 'quiz30050556', 'quiz30050557', 'quiz30050542', 'quiz30050543', 'quiz30046419', 'quiz30046420', 'quiz30046421', 'quiz30046422', 'quiz30046423', 'quiz30046449', 'quiz30046450', 'quiz30046451', 'quiz30046452', 'quiz30046453', 'quiz30047167', 'quiz30047168', 'quiz30047169', 'quiz30047170', 'quiz30047171', 'quiz30047197', 'quiz30047198', 'quiz30047199', 'quiz30047200', 'quiz30047201', 'quiz30052981', 'quiz30052982', 'quiz30052983', 'quiz30052984', 'quiz30052985', 'quiz30048850', 'quiz30048851', 'quiz30048852', 'quiz30048853', 'quiz30048854', 'quiz30051329', 'quiz30051330', 'quiz30051331', 'quiz30051332', 'quiz30051333', 'quiz30051389', 'quiz30051390', 'quiz30051391', 'quiz30051392', 'quiz30051393', 'quiz30052951', 'quiz30052952', 'quiz30052953', 'quiz30052954', 'quiz30052955', 'quiz30047172', 'quiz30059147', 'quiz30074070', 'quiz30074071', 'quiz30074072', 'quiz30074073', 'quiz30074074', 'quiz30074075', 'quiz30074076', 'quiz30074077', 'quiz30074078', 'quiz30055758', 'quiz30055759', 'quiz30055760', 'quiz30055761', 'quiz30055762', 'quiz30055788', 'quiz30055789', 'quiz30055790', 'quiz30055791', 'quiz30055792', 'quiz30051397', 'quiz30074080', 'quiz30048859', 'quiz30074069', 'quiz30074079']\n"
     ]
    }
   ],
   "source": [
    "import json\n",
    "\n",
    "file_path = './data/best_parameters_filter.json'\n",
    "\n",
    "with open(file_path, 'r') as f:\n",
    "    data = json.load(f)\n",
    "\n",
    "quiz_code = list(data[\"item_ids\"].values())\n",
    "\n",
    "print(quiz_code)"
   ]
  },
  {
   "cell_type": "code",
   "execution_count": 66,
   "metadata": {},
   "outputs": [],
   "source": [
    "disc = data['disc']"
   ]
  },
  {
   "cell_type": "code",
   "execution_count": 67,
   "metadata": {},
   "outputs": [],
   "source": [
    "diff = data['diff']"
   ]
  }
 ],
 "metadata": {
  "kernelspec": {
   "display_name": "gpu",
   "language": "python",
   "name": "python3"
  },
  "language_info": {
   "codemirror_mode": {
    "name": "ipython",
    "version": 3
   },
   "file_extension": ".py",
   "mimetype": "text/x-python",
   "name": "python",
   "nbconvert_exporter": "python",
   "pygments_lexer": "ipython3",
   "version": "3.11.6"
  }
 },
 "nbformat": 4,
 "nbformat_minor": 2
}
