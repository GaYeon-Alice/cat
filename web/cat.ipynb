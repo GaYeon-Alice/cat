{
 "cells": [
  {
   "cell_type": "code",
   "execution_count": 7,
   "metadata": {},
   "outputs": [],
   "source": [
    "import os\n",
    "import dotenv\n",
    "import boto3\n",
    "import json\n",
    "\n",
    "# AWS 계정 자격 증명 및 리전 설정\n",
    "env_path = dotenv.find_dotenv()\n",
    "dotenv.load_dotenv(env_path)\n",
    "\n",
    "aws_access_key_id = os.environ.get('AWS_ACCESS_KEY_ID')\n",
    "aws_secret_access_key = os.environ.get('AWS_SECRET_ACCESS_KEY')\n",
    "region_name = 'ap-northeast-2'\n",
    "\n",
    "s3 = boto3.client('s3', aws_access_key_id=aws_access_key_id, aws_secret_access_key=aws_secret_access_key, region_name=region_name)\n",
    "\n",
    "def load_data(bucket_name, object_key):\n",
    "\n",
    "    # JSON 파일 읽어오기\n",
    "    try:\n",
    "        response = s3.get_object(Bucket=bucket_name, Key=object_key)\n",
    "        json_data = json.loads(response['Body'].read().decode('utf-8'))\n",
    "        return json_data\n",
    "    \n",
    "    except Exception as e:\n",
    "        print(e)"
   ]
  },
  {
   "cell_type": "code",
   "execution_count": 8,
   "metadata": {},
   "outputs": [],
   "source": [
    "json_data = load_data('mathcat-bucket', 'irt_result/yyyy=2024/mm=03/dd=13/irt_result.json')\n"
   ]
  },
  {
   "cell_type": "code",
   "execution_count": 9,
   "metadata": {},
   "outputs": [
    {
     "data": {
      "text/plain": [
       "array([[ 1.24731219,  0.49697632,  0.        ,  1.        ],\n",
       "       [ 1.2732867 , -0.57974267,  0.        ,  1.        ],\n",
       "       [ 1.07688701,  0.56360698,  0.        ,  1.        ],\n",
       "       ...,\n",
       "       [ 0.75963587, -0.41184527,  0.        ,  1.        ],\n",
       "       [ 0.08181728,  0.06815594,  0.        ,  1.        ],\n",
       "       [ 0.82494938, -0.61504519,  0.        ,  1.        ]])"
      ]
     },
     "execution_count": 9,
     "metadata": {},
     "output_type": "execute_result"
    }
   ],
   "source": [
    "import numpy as np\n",
    "\n",
    "json_data = load_data('mathcat-bucket', 'irt_result/yyyy=2024/mm=03/dd=13/irt_result.json')\n",
    "\n",
    "def json_to_array(json_data):\n",
    "\n",
    "    result_array = []\n",
    "\n",
    "    for i in range(len(json_data['disc'])):\n",
    "        new_array = [json_data['disc'][i], json_data['diff'][i], 0, 1]\n",
    "        result_array.append(new_array)\n",
    "\n",
    "    return result_array\n",
    "\n",
    "result_array = json_to_array(json_data)\n",
    "np.array(result_array)"
   ]
  },
  {
   "cell_type": "code",
   "execution_count": 10,
   "metadata": {},
   "outputs": [
    {
     "data": {
      "text/plain": [
       "['quiz30062306', 'quiz30066214', 'quiz30074073', 'quiz30065549']"
      ]
     },
     "execution_count": 10,
     "metadata": {},
     "output_type": "execute_result"
    }
   ],
   "source": [
    "# 초기 4문제 받는 부분\n",
    "\n",
    "# 난이도 추출\n",
    "diff = np.array(result_array)[:, 1]\n",
    "\n",
    "# 중앙값 계산\n",
    "median_value = np.median(diff)\n",
    "\n",
    "# 중앙값과 가장 가까운 네 개의 행의 인덱스를 찾기 위해 argsort 사용\n",
    "# 두 번째 열의 값과 중앙값의 차이를 기준으로 오름차순 정렬 후 인덱스 반환\n",
    "sorted_indices = np.argsort(np.abs(diff - median_value))\n",
    "\n",
    "# 가장 작은 네 개의 인덱스 추출\n",
    "selected_indices = sorted_indices[:4]\n",
    "\n",
    "# 리스트 초기화\n",
    "initial_item_ids = []\n",
    "\n",
    "for index in selected_indices:\n",
    "    item_id = json_data['item_ids'][str(index)]\n",
    "    initial_item_ids.append(item_id)\n",
    "\n",
    "initial_item_ids"
   ]
  },
  {
   "cell_type": "code",
   "execution_count": 11,
   "metadata": {},
   "outputs": [],
   "source": [
    "from catsim.initialization import *\n",
    "from catsim.selection import *\n",
    "from catsim.estimation import *\n",
    "from catsim.stopping import *\n",
    "\n",
    "# 초기화\n",
    "initializer = FixedPointInitializer(0)\n",
    "selector = UrrySelector()\n",
    "estimator = NumericalSearchEstimator()\n",
    "stopper = MinErrorStopper(0.6)"
   ]
  },
  {
   "cell_type": "code",
   "execution_count": 14,
   "metadata": {},
   "outputs": [],
   "source": [
    "from catsim.simulation import *\n",
    "import numpy as np\n",
    "\n",
    "administered_items = []\n",
    "responses = []\n",
    "index = 0\n",
    "\n",
    "class Simulator:\n",
    "    def __init__(self, result_array, init_items, initializer, selector, estimator, stopper):\n",
    "        self.result_array = result_array\n",
    "        self.init_items = init_items\n",
    "        self.initializer = initializer\n",
    "        self.selector = selector\n",
    "        self.estimator = estimator\n",
    "        self.stopper = stopper\n",
    "\n",
    "    def recommend_next(self, quiz=False):\n",
    "        global index\n",
    "        global est_theta\n",
    "        global administered_items\n",
    "\n",
    "        ## 다음 문제 추천\n",
    "        # 초기 4문제는 리스트에서 반환\n",
    "        if len(administered_items) < self.init_items:\n",
    "\n",
    "            if quiz == True:\n",
    "                return initial_item_ids[index]\n",
    "            \n",
    "            item_index = list(json_data['item_ids'].values()).index(initial_item_ids[index])\n",
    "            administered_items.append(item_index)\n",
    "\n",
    "            # 문제에 대한 응답 추가\n",
    "            correct = input(f\"Did the user answer the item {initial_item_ids[index]} correctly? (True/False): \").lower()\n",
    "            \n",
    "            if correct not in ['true', 'false']:\n",
    "                print(\"Invalid input. Please enter either 'True' or 'False'.\")\n",
    "            \n",
    "            responses.append(correct == 'true')\n",
    "            print(f'Did the user answer the item {initial_item_ids[index]} correctly?: {responses[index]}')\n",
    "\n",
    "            \n",
    "        \n",
    "        # 5번째 문제부터는 사용자의 학습 수준에 맞게 추천\n",
    "        else:\n",
    "            \n",
    "            item_index = self.selector.select(items=np.array(self.result_array), administered_items=administered_items, est_theta=est_theta)\n",
    "\n",
    "            if quiz == True:\n",
    "                return json_data['item_ids'][str(item_index)]\n",
    "            \n",
    "            administered_items.append(item_index)\n",
    "\n",
    "            # 문제에 대한 응답 추가\n",
    "            correct = input(f\"Did the user answer the item {json_data['item_ids'][str(item_index)]} correctly? (True/False): \").lower()\n",
    "\n",
    "            if correct not in ['true', 'false']:\n",
    "                print(\"Invalid input. Please enter either 'True' or 'False'.\")\n",
    "\n",
    "            responses.append(correct == 'true')\n",
    "            print(f\"Did the user answer the item {json_data['item_ids'][str(item_index)]} correctly?: {responses[index]}\")\n",
    "\n",
    "\n",
    "        # 사용자의 학습 수준 추정\n",
    "            \n",
    "        # if index == 0:\n",
    "        #     est_theta = self.initializer.initialize()\n",
    "        #     est_theta = self.estimator.estimate(\n",
    "        #         items=np.array(self.result_array),\n",
    "        #         administered_items=administered_items,\n",
    "        #         response_vector=responses,\n",
    "        #         est_theta=est_theta\n",
    "        #     )\n",
    "            \n",
    "        # else:\n",
    "        #     est_theta = self.estimator.estimate(\n",
    "        #         items=np.array(self.result_array),\n",
    "        #         administered_items=administered_items,\n",
    "        #         response_vector=responses,\n",
    "        #         est_theta=est_theta\n",
    "        #     )\n",
    "            \n",
    "        if index == 3:\n",
    "            est_theta = self.initializer.initialize()\n",
    "            est_theta = self.estimator.estimate(\n",
    "                items=np.array(self.result_array),\n",
    "                administered_items=administered_items,\n",
    "                response_vector=responses,\n",
    "                est_theta=est_theta\n",
    "            )\n",
    "            \n",
    "        elif index > 3:\n",
    "            est_theta = self.estimator.estimate(\n",
    "                items=np.array(self.result_array),\n",
    "                administered_items=administered_items,\n",
    "                response_vector=responses,\n",
    "                est_theta=est_theta\n",
    "            )\n",
    "        \n",
    "        else:\n",
    "            est_theta = 0\n",
    "        \n",
    "        if self.stopper.stop(administered_items=np.array(self.result_array)[administered_items], theta=est_theta):\n",
    "                \n",
    "            # 사용자의 학습 수준 출력\n",
    "            print(\"시험 종료\")\n",
    "            print(\"Final estimated proficiency:\", est_theta)\n",
    "            \n",
    "            return est_theta, administered_items, responses, index, True\n",
    "\n",
    "        index = index + 1\n",
    "\n",
    "        return est_theta, administered_items, responses, index, False"
   ]
  },
  {
   "cell_type": "code",
   "execution_count": 15,
   "metadata": {},
   "outputs": [],
   "source": [
    "# Simulator 객체 생성\n",
    "simulator = Simulator(result_array, 4, initializer, selector, estimator, stopper)\n"
   ]
  },
  {
   "cell_type": "markdown",
   "metadata": {},
   "source": [
    "1. "
   ]
  },
  {
   "cell_type": "code",
   "execution_count": 16,
   "metadata": {},
   "outputs": [
    {
     "data": {
      "text/plain": [
       "'quiz30062306'"
      ]
     },
     "execution_count": 16,
     "metadata": {},
     "output_type": "execute_result"
    }
   ],
   "source": [
    "simulator.recommend_next(quiz=True)"
   ]
  },
  {
   "cell_type": "code",
   "execution_count": 17,
   "metadata": {},
   "outputs": [
    {
     "name": "stdout",
     "output_type": "stream",
     "text": [
      "Did the user answer the item quiz30062306 correctly?: True\n"
     ]
    },
    {
     "data": {
      "text/plain": [
       "(0, [1202], [True], 1, False)"
      ]
     },
     "execution_count": 17,
     "metadata": {},
     "output_type": "execute_result"
    }
   ],
   "source": [
    "simulator.recommend_next()"
   ]
  },
  {
   "cell_type": "markdown",
   "metadata": {},
   "source": [
    "2."
   ]
  },
  {
   "cell_type": "code",
   "execution_count": 18,
   "metadata": {},
   "outputs": [
    {
     "data": {
      "text/plain": [
       "'quiz30066214'"
      ]
     },
     "execution_count": 18,
     "metadata": {},
     "output_type": "execute_result"
    }
   ],
   "source": [
    "simulator.recommend_next(quiz=True)"
   ]
  },
  {
   "cell_type": "code",
   "execution_count": 19,
   "metadata": {},
   "outputs": [
    {
     "name": "stdout",
     "output_type": "stream",
     "text": [
      "Did the user answer the item quiz30066214 correctly?: True\n"
     ]
    },
    {
     "data": {
      "text/plain": [
       "(0, [1202, 1055], [True, True], 2, False)"
      ]
     },
     "execution_count": 19,
     "metadata": {},
     "output_type": "execute_result"
    }
   ],
   "source": [
    "simulator.recommend_next()"
   ]
  },
  {
   "cell_type": "markdown",
   "metadata": {},
   "source": [
    "3."
   ]
  },
  {
   "cell_type": "code",
   "execution_count": 20,
   "metadata": {},
   "outputs": [
    {
     "data": {
      "text/plain": [
       "'quiz30074073'"
      ]
     },
     "execution_count": 20,
     "metadata": {},
     "output_type": "execute_result"
    }
   ],
   "source": [
    "simulator.recommend_next(quiz=True)"
   ]
  },
  {
   "cell_type": "code",
   "execution_count": 21,
   "metadata": {},
   "outputs": [
    {
     "name": "stdout",
     "output_type": "stream",
     "text": [
      "Did the user answer the item quiz30074073 correctly?: True\n"
     ]
    },
    {
     "data": {
      "text/plain": [
       "(0, [1202, 1055, 968], [True, True, True], 3, False)"
      ]
     },
     "execution_count": 21,
     "metadata": {},
     "output_type": "execute_result"
    }
   ],
   "source": [
    "simulator.recommend_next()"
   ]
  },
  {
   "cell_type": "markdown",
   "metadata": {},
   "source": [
    "4."
   ]
  },
  {
   "cell_type": "code",
   "execution_count": 22,
   "metadata": {},
   "outputs": [
    {
     "data": {
      "text/plain": [
       "'quiz30065549'"
      ]
     },
     "execution_count": 22,
     "metadata": {},
     "output_type": "execute_result"
    }
   ],
   "source": [
    "simulator.recommend_next(quiz=True)"
   ]
  },
  {
   "cell_type": "code",
   "execution_count": 23,
   "metadata": {},
   "outputs": [
    {
     "name": "stdout",
     "output_type": "stream",
     "text": [
      "Did the user answer the item quiz30065549 correctly?: True\n"
     ]
    },
    {
     "data": {
      "text/plain": [
       "(1.6665791273117065,\n",
       " [1202, 1055, 968, 946],\n",
       " [True, True, True, True],\n",
       " 4,\n",
       " False)"
      ]
     },
     "execution_count": 23,
     "metadata": {},
     "output_type": "execute_result"
    }
   ],
   "source": [
    "simulator.recommend_next()"
   ]
  },
  {
   "cell_type": "markdown",
   "metadata": {},
   "source": [
    "5."
   ]
  },
  {
   "cell_type": "code",
   "execution_count": 24,
   "metadata": {},
   "outputs": [
    {
     "data": {
      "text/plain": [
       "'quiz30059043'"
      ]
     },
     "execution_count": 24,
     "metadata": {},
     "output_type": "execute_result"
    }
   ],
   "source": [
    "simulator.recommend_next(quiz=True)"
   ]
  },
  {
   "cell_type": "code",
   "execution_count": 25,
   "metadata": {},
   "outputs": [
    {
     "name": "stdout",
     "output_type": "stream",
     "text": [
      "Did the user answer the item quiz30059043 correctly?: True\n"
     ]
    },
    {
     "data": {
      "text/plain": [
       "(2.49986869096756,\n",
       " [1202, 1055, 968, 946, 308],\n",
       " [True, True, True, True, True],\n",
       " 5,\n",
       " False)"
      ]
     },
     "execution_count": 25,
     "metadata": {},
     "output_type": "execute_result"
    }
   ],
   "source": [
    "simulator.recommend_next()"
   ]
  },
  {
   "cell_type": "markdown",
   "metadata": {},
   "source": [
    "6."
   ]
  },
  {
   "cell_type": "code",
   "execution_count": 26,
   "metadata": {},
   "outputs": [
    {
     "data": {
      "text/plain": [
       "'quiz30051310'"
      ]
     },
     "execution_count": 26,
     "metadata": {},
     "output_type": "execute_result"
    }
   ],
   "source": [
    "simulator.recommend_next(quiz=True)"
   ]
  },
  {
   "cell_type": "code",
   "execution_count": 27,
   "metadata": {},
   "outputs": [
    {
     "name": "stdout",
     "output_type": "stream",
     "text": [
      "Did the user answer the item quiz30051310 correctly?: True\n"
     ]
    },
    {
     "data": {
      "text/plain": [
       "(2.9165134727954865,\n",
       " [1202, 1055, 968, 946, 308, 241],\n",
       " [True, True, True, True, True, True],\n",
       " 6,\n",
       " False)"
      ]
     },
     "execution_count": 27,
     "metadata": {},
     "output_type": "execute_result"
    }
   ],
   "source": [
    "simulator.recommend_next()"
   ]
  },
  {
   "cell_type": "markdown",
   "metadata": {},
   "source": [
    "7."
   ]
  },
  {
   "cell_type": "code",
   "execution_count": 28,
   "metadata": {},
   "outputs": [
    {
     "data": {
      "text/plain": [
       "'quiz30055590'"
      ]
     },
     "execution_count": 28,
     "metadata": {},
     "output_type": "execute_result"
    }
   ],
   "source": [
    "simulator.recommend_next(quiz=True)"
   ]
  },
  {
   "cell_type": "code",
   "execution_count": 29,
   "metadata": {},
   "outputs": [
    {
     "name": "stdout",
     "output_type": "stream",
     "text": [
      "Did the user answer the item quiz30055590 correctly?: True\n"
     ]
    },
    {
     "data": {
      "text/plain": [
       "(3.1248358637094498,\n",
       " [1202, 1055, 968, 946, 308, 241, 641],\n",
       " [True, True, True, True, True, True, True],\n",
       " 7,\n",
       " False)"
      ]
     },
     "execution_count": 29,
     "metadata": {},
     "output_type": "execute_result"
    }
   ],
   "source": [
    "simulator.recommend_next()"
   ]
  },
  {
   "cell_type": "markdown",
   "metadata": {},
   "source": [
    "8."
   ]
  },
  {
   "cell_type": "code",
   "execution_count": 30,
   "metadata": {},
   "outputs": [
    {
     "data": {
      "text/plain": [
       "'quiz30046376'"
      ]
     },
     "execution_count": 30,
     "metadata": {},
     "output_type": "execute_result"
    }
   ],
   "source": [
    "simulator.recommend_next(quiz=True)"
   ]
  },
  {
   "cell_type": "code",
   "execution_count": 31,
   "metadata": {},
   "outputs": [
    {
     "name": "stdout",
     "output_type": "stream",
     "text": [
      "Did the user answer the item quiz30046376 correctly?: True\n"
     ]
    },
    {
     "data": {
      "text/plain": [
       "(3.2289970591664314,\n",
       " [1202, 1055, 968, 946, 308, 241, 641, 87],\n",
       " [True, True, True, True, True, True, True, True],\n",
       " 8,\n",
       " False)"
      ]
     },
     "execution_count": 31,
     "metadata": {},
     "output_type": "execute_result"
    }
   ],
   "source": [
    "simulator.recommend_next()"
   ]
  },
  {
   "cell_type": "markdown",
   "metadata": {},
   "source": [
    "9."
   ]
  },
  {
   "cell_type": "code",
   "execution_count": 32,
   "metadata": {},
   "outputs": [
    {
     "data": {
      "text/plain": [
       "'quiz30060033'"
      ]
     },
     "execution_count": 32,
     "metadata": {},
     "output_type": "execute_result"
    }
   ],
   "source": [
    "simulator.recommend_next(quiz=True)"
   ]
  },
  {
   "cell_type": "code",
   "execution_count": 33,
   "metadata": {},
   "outputs": [
    {
     "name": "stdout",
     "output_type": "stream",
     "text": [
      "Did the user answer the item quiz30060033 correctly?: True\n"
     ]
    },
    {
     "data": {
      "text/plain": [
       "(3.2810776568949223,\n",
       " [1202, 1055, 968, 946, 308, 241, 641, 87, 52],\n",
       " [True, True, True, True, True, True, True, True, True],\n",
       " 9,\n",
       " False)"
      ]
     },
     "execution_count": 33,
     "metadata": {},
     "output_type": "execute_result"
    }
   ],
   "source": [
    "simulator.recommend_next()"
   ]
  },
  {
   "cell_type": "markdown",
   "metadata": {},
   "source": [
    "10."
   ]
  },
  {
   "cell_type": "code",
   "execution_count": 34,
   "metadata": {},
   "outputs": [
    {
     "data": {
      "text/plain": [
       "'quiz30051309'"
      ]
     },
     "execution_count": 34,
     "metadata": {},
     "output_type": "execute_result"
    }
   ],
   "source": [
    "simulator.recommend_next(quiz=True)"
   ]
  },
  {
   "cell_type": "code",
   "execution_count": 35,
   "metadata": {},
   "outputs": [
    {
     "name": "stdout",
     "output_type": "stream",
     "text": [
      "Did the user answer the item quiz30051309 correctly?: True\n"
     ]
    },
    {
     "data": {
      "text/plain": [
       "(3.3071179557591677,\n",
       " [1202, 1055, 968, 946, 308, 241, 641, 87, 52, 196],\n",
       " [True, True, True, True, True, True, True, True, True, True],\n",
       " 10,\n",
       " False)"
      ]
     },
     "execution_count": 35,
     "metadata": {},
     "output_type": "execute_result"
    }
   ],
   "source": [
    "simulator.recommend_next()"
   ]
  },
  {
   "cell_type": "markdown",
   "metadata": {},
   "source": [
    "11."
   ]
  },
  {
   "cell_type": "code",
   "execution_count": 36,
   "metadata": {},
   "outputs": [
    {
     "data": {
      "text/plain": [
       "'quiz30061291'"
      ]
     },
     "execution_count": 36,
     "metadata": {},
     "output_type": "execute_result"
    }
   ],
   "source": [
    "simulator.recommend_next(quiz=True)"
   ]
  },
  {
   "cell_type": "code",
   "execution_count": 37,
   "metadata": {},
   "outputs": [
    {
     "name": "stdout",
     "output_type": "stream",
     "text": [
      "Did the user answer the item quiz30061291 correctly?: True\n"
     ]
    },
    {
     "data": {
      "text/plain": [
       "(3.3201381051912904,\n",
       " [1202, 1055, 968, 946, 308, 241, 641, 87, 52, 196, 398],\n",
       " [True, True, True, True, True, True, True, True, True, True, True],\n",
       " 11,\n",
       " False)"
      ]
     },
     "execution_count": 37,
     "metadata": {},
     "output_type": "execute_result"
    }
   ],
   "source": [
    "simulator.recommend_next()"
   ]
  },
  {
   "cell_type": "markdown",
   "metadata": {},
   "source": [
    "12."
   ]
  },
  {
   "cell_type": "code",
   "execution_count": 38,
   "metadata": {},
   "outputs": [
    {
     "data": {
      "text/plain": [
       "'quiz30057006'"
      ]
     },
     "execution_count": 38,
     "metadata": {},
     "output_type": "execute_result"
    }
   ],
   "source": [
    "simulator.recommend_next(quiz=True)"
   ]
  },
  {
   "cell_type": "code",
   "execution_count": 39,
   "metadata": {},
   "outputs": [
    {
     "name": "stdout",
     "output_type": "stream",
     "text": [
      "Did the user answer the item quiz30057006 correctly?: True\n",
      "시험 종료\n",
      "Final estimated proficiency: 3.3266481799073517\n"
     ]
    },
    {
     "data": {
      "text/plain": [
       "(3.3266481799073517,\n",
       " [1202, 1055, 968, 946, 308, 241, 641, 87, 52, 196, 398, 1260],\n",
       " [True, True, True, True, True, True, True, True, True, True, True, True],\n",
       " 11,\n",
       " True)"
      ]
     },
     "execution_count": 39,
     "metadata": {},
     "output_type": "execute_result"
    }
   ],
   "source": [
    "simulator.recommend_next()"
   ]
  },
  {
   "cell_type": "code",
   "execution_count": 6,
   "metadata": {},
   "outputs": [
    {
     "name": "stdout",
     "output_type": "stream",
     "text": [
      "Initial 4 items answered. Estimated proficiency: 1.6665791273117065\n",
      "Estimated proficiency, given answered items: 1.6665791273117065\n",
      "Next item to be administered: quiz30059043\n",
      "Probability to correctly answer item: 0.10365764256641782\n",
      "Did the user answer the selected item correctly? True\n",
      "responses:  [True, True, True, True, True]\n",
      "Estimated proficiency, given answered items: 2.49986869096756\n",
      "Next item to be administered: quiz30051310\n",
      "Probability to correctly answer item: 0.038517233065577396\n",
      "Did the user answer the selected item correctly? True\n",
      "responses:  [True, True, True, True, True, True]\n",
      "Estimated proficiency, given answered items: 2.9165134727954865\n",
      "Next item to be administered: quiz30055590\n",
      "Probability to correctly answer item: 0.06318217660694031\n",
      "Did the user answer the selected item correctly? True\n",
      "responses:  [True, True, True, True, True, True, True]\n",
      "Estimated proficiency, given answered items: 3.1248358637094498\n",
      "Next item to be administered: quiz30046376\n",
      "Probability to correctly answer item: 0.033239566112069595\n",
      "Did the user answer the selected item correctly? True\n",
      "responses:  [True, True, True, True, True, True, True, True]\n",
      "Estimated proficiency, given answered items: 3.2289970591664314\n",
      "Next item to be administered: quiz30060033\n",
      "Probability to correctly answer item: 0.03995960738628077\n",
      "Did the user answer the selected item correctly? True\n",
      "responses:  [True, True, True, True, True, True, True, True, True]\n",
      "Estimated proficiency, given answered items: 3.2810776568949223\n",
      "Next item to be administered: quiz30051309\n",
      "Probability to correctly answer item: 0.006272981141376425\n",
      "Did the user answer the selected item correctly? True\n",
      "responses:  [True, True, True, True, True, True, True, True, True, True]\n",
      "Estimated proficiency, given answered items: 3.3071179557591677\n",
      "Next item to be administered: quiz30061291\n",
      "Probability to correctly answer item: 0.006848971234151004\n",
      "Did the user answer the selected item correctly? True\n",
      "responses:  [True, True, True, True, True, True, True, True, True, True, True]\n",
      "Estimated proficiency, given answered items: 3.3201381051912904\n",
      "Next item to be administered: quiz30057006\n",
      "Probability to correctly answer item: 0.04154238107389868\n",
      "Did the user answer the selected item correctly? True\n",
      "responses:  [True, True, True, True, True, True, True, True, True, True, True, True]\n",
      "responses:  [True, True, True, True, True, True, True, True, True, True, True, True]\n",
      "사용자의 최종 능력치 (Estimated Proficiency): 3.3266481799073517\n"
     ]
    }
   ],
   "source": [
    "from catsim.simulation import *\n",
    "from catsim.initialization import *\n",
    "from catsim.selection import *\n",
    "from catsim.estimation import *\n",
    "from catsim.stopping import *\n",
    "from catsim.irt import icc\n",
    "import numpy as np\n",
    "import matplotlib.pyplot as plt\n",
    "\n",
    "\n",
    "result_array = []\n",
    "\n",
    "for i in range(len(json_data['disc'])):\n",
    "    new_array = [json_data['disc'][i], json_data['diff'][i], 0, 1]\n",
    "    result_array.append(new_array)\n",
    "\n",
    "np.array(result_array)\n",
    "## ---------------------------------------- 여기까지 json 열고 result_array 댓고오는거임 ----------------------------------------------------\n",
    "\n",
    "class Simulator:\n",
    "    def __init__(self, result_array, max_items, initializer, selector, estimator, stopper):\n",
    "        #simulator로 돌려야 되니까 self 로 그냥 다 받았습니다. \n",
    "        self.result_array = result_array\n",
    "        self.max_items = max_items\n",
    "        self.initializer = initializer\n",
    "        self.selector = selector\n",
    "        self.estimator = estimator\n",
    "        self.stopper = stopper\n",
    "\n",
    "    def simulate(self, verbose=False):\n",
    "        global initial_item_ids\n",
    "        administered_items = []\n",
    "        responses = []\n",
    "        \n",
    "        # 초기 4문제의 인덱스를 찾아서 administered_items에 추가하고 응답 벡터에 대응하는 응답을 추가\n",
    "        for item_id in initial_item_ids:\n",
    "            item_index = list(json_data['item_ids'].values()).index(item_id)\n",
    "            administered_items.append(item_index)\n",
    "\n",
    "            # 초기 문제에 대한 응답 추가\n",
    "            correct = input(f\"Did the user answer the item {item_id} correctly? (True/False): \").lower()\n",
    "            if correct not in ['true', 'false']:\n",
    "                print(\"Invalid input. Please enter either 'True' or 'False'.\")\n",
    "                continue\n",
    "            responses.append(correct == 'true')\n",
    "\n",
    "        # 초기화 단계\n",
    "        est_theta = self.initializer.initialize()\n",
    "\n",
    "        est_theta = self.estimator.estimate(\n",
    "        items=np.array(self.result_array),\n",
    "        administered_items=administered_items,\n",
    "        response_vector=responses,\n",
    "        est_theta=est_theta\n",
    "    )\n",
    "        # 여기까지가, 이제 해당 4문제들을 난이도가 중간값에 근사한 걸로 넣어가지고 진행했구요\n",
    "        # 여기서 이제 사용자가 입력받아 True or False로 알겠지\n",
    "\n",
    "    # 초기 4문제 후의 능력치 출력\n",
    "        if verbose:\n",
    "            print(\"Initial 4 items answered. Estimated proficiency:\", est_theta)\n",
    "            ## 여기까지 이제 4문제를 풀고 난후의 theta 값 즉, 사용자의 능력치를 추정\n",
    "\n",
    "        while True:\n",
    "            # 추천 단계\n",
    "            if len(administered_items) >= len(initial_item_ids):\n",
    "                item_index = self.selector.select(items=np.array(self.result_array), administered_items=administered_items, est_theta=est_theta)\n",
    "            else:\n",
    "                # 초기 문제를 추천하지 않도록 건너뛰기\n",
    "                item_index = administered_items[len(administered_items)]\n",
    "\n",
    "            next_item_id = json_data['item_ids'][str(item_index)]\n",
    "            ## 여기까지 이제 문제를 select해서 퀴즈코드 추천  -> 문제 추천해줘\n",
    "\n",
    "            # 평가 단계\n",
    "            true_theta = 0.0\n",
    "            a, b, c, d = np.array(self.result_array)[item_index]\n",
    "            prob = icc(true_theta, a, b, c, d)\n",
    "            correct = input(f\"Did the user answer the item {next_item_id} correctly? (True/False): \").lower()\n",
    "            if correct not in ['true', 'false']:\n",
    "                print(\"Invalid input. Please enter either 'True' or 'False'.\")\n",
    "                continue\n",
    "            correct = (correct == 'true')\n",
    "\n",
    "            # 여기까지가 그 문제를 맞추고, 틀렸는지 이제 estimation 해줘요\n",
    "\n",
    "            # 중단 단계\n",
    "            if len(administered_items) >= self.max_items or self.stopper.stop(administered_items=np.array(self.result_array)[administered_items], theta=est_theta):\n",
    "                break\n",
    "            #max_item 은 필요없긴 한데, self stopper에서 종단기준이 만족하면 stop\n",
    "\n",
    "            # 결과 기록\n",
    "            administered_items.append(item_index)\n",
    "            responses.append(correct)\n",
    "\n",
    "            if verbose:\n",
    "                print('Estimated proficiency, given answered items:', est_theta)\n",
    "                print('Next item to be administered:', next_item_id)\n",
    "                print('Probability to correctly answer item:', prob)\n",
    "                print('Did the user answer the selected item correctly?', correct)\n",
    "                print(\"responses: \", responses)\n",
    "\n",
    "            # 능력치 업데이트\n",
    "            est_theta = self.estimator.estimate(\n",
    "                items=np.array(self.result_array),\n",
    "                administered_items=administered_items,\n",
    "                response_vector=responses,\n",
    "                est_theta=est_theta\n",
    "            )\n",
    "\n",
    "        if verbose:\n",
    "            print(\"responses: \", responses)\n",
    "        print(\"사용자의 최종 능력치 (Estimated Proficiency):\", est_theta)\n",
    "        # 사용자의 최종 능력치를 추정해줌.\n",
    "\n",
    "\n",
    "## --------------------- 여기까지가 클래스 정의고 밑에 클래스 돌리는거 ---------------------------------\n",
    "initializer = FixedPointInitializer(0)\n",
    "selector = UrrySelector()\n",
    "estimator = NumericalSearchEstimator()\n",
    "stopper = MinErrorStopper(.6)\n",
    "\n",
    "s = Simulator(np.array(result_array), 20, initializer, selector, estimator, stopper)\n",
    "s.simulate(verbose=True)\n",
    "\n",
    "\n",
    "# ----- 분기 처리 해드리고 싶은데 그냥 알아서 해주세요 ㅅㄱ----------------------"
   ]
  }
 ],
 "metadata": {
  "kernelspec": {
   "display_name": "Python 3",
   "language": "python",
   "name": "python3"
  },
  "language_info": {
   "codemirror_mode": {
    "name": "ipython",
    "version": 3
   },
   "file_extension": ".py",
   "mimetype": "text/x-python",
   "name": "python",
   "nbconvert_exporter": "python",
   "pygments_lexer": "ipython3",
   "version": "3.11.5"
  }
 },
 "nbformat": 4,
 "nbformat_minor": 2
}
